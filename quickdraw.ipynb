{
  "nbformat": 4,
  "nbformat_minor": 0,
  "metadata": {
    "colab": {
      "name": "quickdraw.ipynb",
      "provenance": [],
      "collapsed_sections": []
    },
    "kernelspec": {
      "name": "python3",
      "display_name": "Python 3"
    },
    "language_info": {
      "name": "python"
    }
  },
  "cells": [
    {
      "cell_type": "code",
      "metadata": {
        "id": "QAEfwjm728PE"
      },
      "source": [
        "dataset_path = 'quickdraw_data/'"
      ],
      "execution_count": null,
      "outputs": []
    },
    {
      "cell_type": "code",
      "metadata": {
        "id": "5xycUG-h_Zah"
      },
      "source": [
        "import os\n",
        "import numpy as np\n",
        "import matplotlib.pyplot as plt"
      ],
      "execution_count": null,
      "outputs": []
    },
    {
      "cell_type": "code",
      "metadata": {
        "colab": {
          "base_uri": "https://localhost:8080/"
        },
        "id": "X26YVPOO_eW2",
        "outputId": "5cd72ffa-8e93-465b-f24d-c5870ab5c9c0"
      },
      "source": [
        "cd MyDrive"
      ],
      "execution_count": null,
      "outputs": [
        {
          "output_type": "stream",
          "text": [
            "/content/drive/MyDrive\n"
          ],
          "name": "stdout"
        }
      ]
    },
    {
      "cell_type": "code",
      "metadata": {
        "colab": {
          "base_uri": "https://localhost:8080/"
        },
        "id": "Arc9Lqk__ymR",
        "outputId": "da362e65-d183-4a29-d926-9f26a35bc6cd"
      },
      "source": [
        "ls"
      ],
      "execution_count": null,
      "outputs": [
        {
          "output_type": "stream",
          "text": [
            "\u001b[0m\u001b[01;34m'Colab Notebooks'\u001b[0m/   \u001b[01;34mquickdraw_data\u001b[0m/\n"
          ],
          "name": "stdout"
        }
      ]
    },
    {
      "cell_type": "code",
      "metadata": {
        "colab": {
          "base_uri": "https://localhost:8080/"
        },
        "id": "sIKrD3fL_5SB",
        "outputId": "977973e0-8004-4acf-c3ca-3655f89e70c8"
      },
      "source": [
        "os.listdir(dataset_path)"
      ],
      "execution_count": null,
      "outputs": [
        {
          "output_type": "execute_result",
          "data": {
            "text/plain": [
              "['full_numpy_bitmap_The Eiffel Tower.npy',\n",
              " 'full_numpy_bitmap_airplane.npy',\n",
              " 'full_numpy_bitmap_alarm clock.npy',\n",
              " 'full_numpy_bitmap_ant.npy',\n",
              " 'full_numpy_bitmap_apple.npy',\n",
              " 'full_numpy_bitmap_basketball.npy',\n",
              " 'full_numpy_bitmap_camera.npy',\n",
              " 'full_numpy_bitmap_dog.npy',\n",
              " 'full_numpy_bitmap_car.npy',\n",
              " 'full_numpy_bitmap_banana.npy',\n",
              " 'full_numpy_bitmap_bus.npy']"
            ]
          },
          "metadata": {},
          "execution_count": 16
        }
      ]
    },
    {
      "cell_type": "code",
      "metadata": {
        "id": "uxSZR2ZSAWeF"
      },
      "source": [
        "classes = os.listdir(dataset_path)"
      ],
      "execution_count": null,
      "outputs": []
    },
    {
      "cell_type": "code",
      "metadata": {
        "id": "z55gvPg0Acpw"
      },
      "source": [
        "classes = [f.split('_')[-1].split('.')[0] for f in files]"
      ],
      "execution_count": null,
      "outputs": []
    },
    {
      "cell_type": "code",
      "metadata": {
        "colab": {
          "base_uri": "https://localhost:8080/"
        },
        "id": "heQoqHa2A2Vc",
        "outputId": "67b26615-af71-4d20-b671-95e1f177b472"
      },
      "source": [
        "classes"
      ],
      "execution_count": null,
      "outputs": [
        {
          "output_type": "execute_result",
          "data": {
            "text/plain": [
              "['The Eiffel Tower',\n",
              " 'airplane',\n",
              " 'alarm clock',\n",
              " 'ant',\n",
              " 'apple',\n",
              " 'basketball',\n",
              " 'camera',\n",
              " 'dog',\n",
              " 'car',\n",
              " 'banana',\n",
              " 'bus']"
            ]
          },
          "metadata": {},
          "execution_count": 20
        }
      ]
    },
    {
      "cell_type": "code",
      "metadata": {
        "colab": {
          "base_uri": "https://localhost:8080/"
        },
        "id": "pmI2jA_xA-q_",
        "outputId": "ecfab015-cf8a-4c59-decb-e32d503eb4c1"
      },
      "source": [
        "ls"
      ],
      "execution_count": null,
      "outputs": [
        {
          "output_type": "stream",
          "text": [
            "\u001b[0m\u001b[01;34m'Colab Notebooks'\u001b[0m/   \u001b[01;34mquickdraw_datatest\u001b[0m/    \u001b[01;34mquickdraw_datavalid\u001b[0m/\n",
            " \u001b[01;34mquickdraw_data\u001b[0m/     \u001b[01;34mquickdraw_datatrain\u001b[0m/\n"
          ],
          "name": "stdout"
        }
      ]
    },
    {
      "cell_type": "code",
      "metadata": {
        "id": "qX8YfeBXA4NT"
      },
      "source": [
        "os.makedirs(dataset_path + 'test/')\n",
        "os.makedirs(dataset_path + 'valid/')\n",
        "os.makedirs(dataset_path + 'train/')"
      ],
      "execution_count": null,
      "outputs": []
    },
    {
      "cell_type": "code",
      "metadata": {
        "colab": {
          "base_uri": "https://localhost:8080/"
        },
        "id": "wwV0m1jIBAX2",
        "outputId": "228e46a6-963c-42f2-deb7-180e5b87d112"
      },
      "source": [
        "for f in files:\n",
        "  print(f)\n",
        "  dataset = np.load(dataset_path+f)\n",
        "  np.random.shuffle(dataset)\n",
        "  dataset = dataset[:35000]\n",
        "  test, val, train = np.split(dataset, [int(0.2*len(dataset)), int(0.44*len(dataset))])\n",
        "  np.save(dataset_path + 'test/' + f, test)\n",
        "  np.save(dataset_path + 'valid/' + f, val)\n",
        "  np.save(dataset_path + 'train/' + f, train)"
      ],
      "execution_count": null,
      "outputs": [
        {
          "output_type": "stream",
          "text": [
            "full_numpy_bitmap_The Eiffel Tower.npy\n",
            "full_numpy_bitmap_airplane.npy\n",
            "full_numpy_bitmap_alarm clock.npy\n",
            "full_numpy_bitmap_ant.npy\n",
            "full_numpy_bitmap_apple.npy\n",
            "full_numpy_bitmap_basketball.npy\n",
            "full_numpy_bitmap_camera.npy\n",
            "full_numpy_bitmap_dog.npy\n",
            "full_numpy_bitmap_car.npy\n",
            "full_numpy_bitmap_banana.npy\n",
            "full_numpy_bitmap_bus.npy\n"
          ],
          "name": "stdout"
        }
      ]
    },
    {
      "cell_type": "code",
      "metadata": {
        "id": "2bFdhVSzBsPT"
      },
      "source": [
        "check = np.load(dataset_path+'full_numpy_bitmap_airplane.npy')"
      ],
      "execution_count": null,
      "outputs": []
    },
    {
      "cell_type": "code",
      "metadata": {
        "colab": {
          "base_uri": "https://localhost:8080/"
        },
        "id": "M3jnC7QNCNbJ",
        "outputId": "dfef932a-ba96-4c4e-c72b-6f3200acbf35"
      },
      "source": [
        "check.shape"
      ],
      "execution_count": null,
      "outputs": [
        {
          "output_type": "execute_result",
          "data": {
            "text/plain": [
              "(151623, 784)"
            ]
          },
          "metadata": {},
          "execution_count": 27
        }
      ]
    },
    {
      "cell_type": "code",
      "metadata": {
        "colab": {
          "base_uri": "https://localhost:8080/",
          "height": 176
        },
        "id": "TXcnbxB7CdG-",
        "outputId": "fc38fe36-e826-427d-ad5d-8a236bf0129a"
      },
      "source": [
        "plt.figure(figsize=(2,2))\n",
        "plt.imshow(check[4].reshape(28,28))"
      ],
      "execution_count": null,
      "outputs": [
        {
          "output_type": "execute_result",
          "data": {
            "text/plain": [
              "<matplotlib.image.AxesImage at 0x7f57628f8550>"
            ]
          },
          "metadata": {},
          "execution_count": 32
        },
        {
          "output_type": "display_data",
          "data": {
            "image/png": "[encoded data removed]",
            "text/plain": [
              "<Figure size 144x144 with 1 Axes>"
            ]
          },
          "metadata": {
            "needs_background": "light"
          }
        }
      ]
    },
    {
      "cell_type": "code",
      "metadata": {
        "colab": {
          "base_uri": "https://localhost:8080/",
          "height": 35
        },
        "id": "_Bw3QX-6Cz9V",
        "outputId": "ad34fc27-6cde-41c3-dcdb-0390d0395ca8"
      },
      "source": [
        "pwd"
      ],
      "execution_count": null,
      "outputs": [
        {
          "output_type": "execute_result",
          "data": {
            "application/vnd.google.colaboratory.intrinsic+json": {
              "type": "string"
            },
            "text/plain": [
              "'/content/drive/My Drive'"
            ]
          },
          "metadata": {},
          "execution_count": 33
        }
      ]
    },
    {
      "cell_type": "code",
      "metadata": {
        "id": "FthIF1I8C81V"
      },
      "source": [
        "data_dir = '/content/drive/My Drive/quickdraw_data'"
      ],
      "execution_count": null,
      "outputs": []
    },
    {
      "cell_type": "code",
      "metadata": {
        "id": "xkzlr9IwDFZa"
      },
      "source": [
        ""
      ],
      "execution_count": null,
      "outputs": []
    }
  ]
}