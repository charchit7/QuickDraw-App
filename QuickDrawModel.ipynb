{
  "nbformat": 4,
  "nbformat_minor": 0,
  "metadata": {
    "colab": {
      "name": "QuickDrawModel.ipynb",
      "provenance": [],
      "collapsed_sections": []
    },
    "kernelspec": {
      "name": "python3",
      "display_name": "Python 3"
    },
    "language_info": {
      "name": "python"
    },
    "accelerator": "GPU"
  },
  "cells": [
    {
      "cell_type": "code",
      "metadata": {
        "colab": {
          "base_uri": "https://localhost:8080/"
        },
        "id": "7SaK9E-rEPoa",
        "outputId": "883c2f88-e219-41e6-9c9f-532ada71ae4e"
      },
      "source": [
        "from google.colab import drive\n",
        "drive.mount('/content/drive')"
      ],
      "execution_count": null,
      "outputs": [
        {
          "output_type": "stream",
          "text": [
            "Mounted at /content/drive\n"
          ],
          "name": "stdout"
        }
      ]
    },
    {
      "cell_type": "code",
      "metadata": {
        "id": "WmeU4Ag-FXYb"
      },
      "source": [
        "dataset_path = '/content/drive/My Drive/quickdraw_data/'"
      ],
      "execution_count": null,
      "outputs": []
    },
    {
      "cell_type": "code",
      "metadata": {
        "id": "hBZkk7SBFvWI"
      },
      "source": [
        "%reload_ext autoreload\n",
        "%autoreload 2\n",
        "%matplotlib inline"
      ],
      "execution_count": null,
      "outputs": []
    },
    {
      "cell_type": "code",
      "metadata": {
        "id": "9tlYuD-PFwzB"
      },
      "source": [
        "import numpy as np\n",
        "import matplotlib.pyplot as plt\n",
        "from PIL import Image\n",
        "import os\n",
        "\n",
        "import torch\n",
        "from torch import nn, optim\n",
        "from torchvision import transforms, datasets"
      ],
      "execution_count": null,
      "outputs": []
    },
    {
      "cell_type": "code",
      "metadata": {
        "colab": {
          "base_uri": "https://localhost:8080/"
        },
        "id": "gzPIyuGlFz0w",
        "outputId": "6467099c-963f-4690-cb6a-3457eca52b65"
      },
      "source": [
        "device = torch.device(\"cuda:0\" if torch.cuda.is_available() else \"cpu\")\n",
        "device"
      ],
      "execution_count": null,
      "outputs": [
        {
          "output_type": "execute_result",
          "data": {
            "text/plain": [
              "device(type='cuda', index=0)"
            ]
          },
          "metadata": {},
          "execution_count": 5
        }
      ]
    },
    {
      "cell_type": "code",
      "metadata": {
        "id": "7n5NoABfF-jl"
      },
      "source": [
        "data_dirs = {\n",
        "    'train': dataset_path+'train/',\n",
        "    'valid': dataset_path+'valid/',\n",
        "    'test': dataset_path+'test/',\n",
        "}"
      ],
      "execution_count": null,
      "outputs": []
    },
    {
      "cell_type": "code",
      "metadata": {
        "colab": {
          "base_uri": "https://localhost:8080/"
        },
        "id": "qt5nozpbGJJi",
        "outputId": "ab5a102a-d390-4d10-df4d-d9df6e0019b1"
      },
      "source": [
        "data_dirs"
      ],
      "execution_count": null,
      "outputs": [
        {
          "output_type": "execute_result",
          "data": {
            "text/plain": [
              "{'test': '/content/drive/My Drive/quickdraw_data/test/',\n",
              " 'train': '/content/drive/My Drive/quickdraw_data/train/',\n",
              " 'valid': '/content/drive/My Drive/quickdraw_data/valid/'}"
            ]
          },
          "metadata": {},
          "execution_count": 7
        }
      ]
    },
    {
      "cell_type": "code",
      "metadata": {
        "colab": {
          "base_uri": "https://localhost:8080/",
          "height": 35
        },
        "id": "x1g83TqvGKpo",
        "outputId": "35414b5f-cc61-453d-eb29-205999c80f4b"
      },
      "source": [
        "data_dirs['train']"
      ],
      "execution_count": null,
      "outputs": [
        {
          "output_type": "execute_result",
          "data": {
            "application/vnd.google.colaboratory.intrinsic+json": {
              "type": "string"
            },
            "text/plain": [
              "'/content/drive/My Drive/quickdraw_data/train/'"
            ]
          },
          "metadata": {},
          "execution_count": 8
        }
      ]
    },
    {
      "cell_type": "code",
      "metadata": {
        "id": "zRdK7CKaGSPI"
      },
      "source": [
        "files = os.listdir(data_dirs['train'])\n",
        "files = files[:10]\n",
        "idx_to_class = sorted([f.split('_')[-1].split('.')[0] for f in files])\n",
        "\n",
        "class_to_idx = {idx_to_class[i]: i for i in range(len(idx_to_class))}\n"
      ],
      "execution_count": null,
      "outputs": []
    },
    {
      "cell_type": "code",
      "metadata": {
        "colab": {
          "base_uri": "https://localhost:8080/"
        },
        "id": "OG6mJ9iRGwkT",
        "outputId": "37511e9d-b64f-44ea-f077-9a8160f23bd0"
      },
      "source": [
        "files"
      ],
      "execution_count": null,
      "outputs": [
        {
          "output_type": "execute_result",
          "data": {
            "text/plain": [
              "['full_numpy_bitmap_The Eiffel Tower.npy',\n",
              " 'full_numpy_bitmap_airplane.npy',\n",
              " 'full_numpy_bitmap_alarm clock.npy',\n",
              " 'full_numpy_bitmap_ant.npy',\n",
              " 'full_numpy_bitmap_apple.npy',\n",
              " 'full_numpy_bitmap_basketball.npy',\n",
              " 'full_numpy_bitmap_camera.npy',\n",
              " 'full_numpy_bitmap_dog.npy',\n",
              " 'full_numpy_bitmap_car.npy',\n",
              " 'full_numpy_bitmap_banana.npy']"
            ]
          },
          "metadata": {},
          "execution_count": 11
        }
      ]
    },
    {
      "cell_type": "code",
      "metadata": {
        "colab": {
          "base_uri": "https://localhost:8080/"
        },
        "id": "spQ5KDMrHbo6",
        "outputId": "22ae1db0-556a-4ab0-f54a-7b4a762b9834"
      },
      "source": [
        "class_to_idx"
      ],
      "execution_count": null,
      "outputs": [
        {
          "output_type": "execute_result",
          "data": {
            "text/plain": [
              "{'The Eiffel Tower': 0,\n",
              " 'airplane': 1,\n",
              " 'alarm clock': 2,\n",
              " 'ant': 3,\n",
              " 'apple': 4,\n",
              " 'banana': 5,\n",
              " 'basketball': 6,\n",
              " 'camera': 7,\n",
              " 'car': 8,\n",
              " 'dog': 9}"
            ]
          },
          "metadata": {},
          "execution_count": 12
        }
      ]
    },
    {
      "cell_type": "code",
      "metadata": {
        "colab": {
          "base_uri": "https://localhost:8080/"
        },
        "id": "73kpggAXHdzj",
        "outputId": "6ae62abb-a358-4956-e90b-cd82d436b2b3"
      },
      "source": [
        "idx_to_class"
      ],
      "execution_count": null,
      "outputs": [
        {
          "output_type": "execute_result",
          "data": {
            "text/plain": [
              "['The Eiffel Tower',\n",
              " 'airplane',\n",
              " 'alarm clock',\n",
              " 'ant',\n",
              " 'apple',\n",
              " 'banana',\n",
              " 'basketball',\n",
              " 'camera',\n",
              " 'car',\n",
              " 'dog']"
            ]
          },
          "metadata": {},
          "execution_count": 13
        }
      ]
    },
    {
      "cell_type": "code",
      "metadata": {
        "colab": {
          "base_uri": "https://localhost:8080/"
        },
        "id": "xsE45-4MHgWA",
        "outputId": "9f876c17-2eee-4069-8739-4ca1d5d265c3"
      },
      "source": [
        "len(idx_to_class)"
      ],
      "execution_count": null,
      "outputs": [
        {
          "output_type": "execute_result",
          "data": {
            "text/plain": [
              "10"
            ]
          },
          "metadata": {},
          "execution_count": 14
        }
      ]
    },
    {
      "cell_type": "code",
      "metadata": {
        "id": "n8VbmP8lHjjy"
      },
      "source": [
        "# data transform block\n",
        "data_transform = {\n",
        "    'train' : transforms.Compose([\n",
        "                                  transforms.RandomRotation(10),\n",
        "                                  transforms.ToTensor()\n",
        "    ]),\n",
        "\n",
        "    'valid' : transforms.Compose([\n",
        "                                  transforms.ToTensor()\n",
        "    ]),\n",
        " \n",
        "    'test' : transforms.Compose([\n",
        "                                 transforms.ToTensor()\n",
        "    ])\n",
        "\n",
        "}"
      ],
      "execution_count": null,
      "outputs": []
    },
    {
      "cell_type": "code",
      "metadata": {
        "colab": {
          "base_uri": "https://localhost:8080/"
        },
        "id": "Dl6-EYwrLMnG",
        "outputId": "14bd071d-485b-467c-d946-32213fa164e0"
      },
      "source": [
        "data_transform['train']"
      ],
      "execution_count": null,
      "outputs": [
        {
          "output_type": "execute_result",
          "data": {
            "text/plain": [
              "Compose(\n",
              "    RandomRotation(degrees=[-10.0, 10.0], interpolation=nearest, expand=False, fill=0)\n",
              "    ToTensor()\n",
              ")"
            ]
          },
          "metadata": {},
          "execution_count": 11
        }
      ]
    },
    {
      "cell_type": "code",
      "metadata": {
        "id": "Xrx0Gvi5LRaD"
      },
      "source": [
        "# dataset block\n",
        "dataset = {}\n",
        "\n",
        "for d in ['train', 'valid', 'test']:\n",
        "    data_x = []\n",
        "    data_y = []\n",
        "\n",
        "    for path, _, temp in os.walk(data_dirs[d]):\n",
        "      for f in files:\n",
        "        c = f.split('_')[-1].split('.')[0] # get class name from file name\n",
        "        x = np.load(path + f).reshape(-1, 28, 28) / 255\n",
        "        y = np.ones((len(x), 1), dtype=np.int64) * class_to_idx[c]\n",
        "\n",
        "        data_x.extend(x)\n",
        "        data_y.extend(y)\n",
        "\n",
        "      dataset[d] = torch.utils.data.TensorDataset(torch.stack([data_transform[d](Image.fromarray(np.uint8(i*255))) for i in data_x]), \n",
        "                                                torch.stack([torch.Tensor(j) for j in data_y]))"
      ],
      "execution_count": null,
      "outputs": []
    },
    {
      "cell_type": "code",
      "metadata": {
        "colab": {
          "base_uri": "https://localhost:8080/"
        },
        "id": "4xor80yvNA4w",
        "outputId": "31b36a86-37fe-4aaf-90f3-24c238aae4f2"
      },
      "source": [
        "[len(dataset[d]) for d in ['train', 'valid', 'test']]\n"
      ],
      "execution_count": null,
      "outputs": [
        {
          "output_type": "execute_result",
          "data": {
            "text/plain": [
              "[196000, 84000, 70000]"
            ]
          },
          "metadata": {},
          "execution_count": 13
        }
      ]
    },
    {
      "cell_type": "code",
      "metadata": {
        "id": "Jn3Gr0FPNvXx"
      },
      "source": [
        "#batch size\n",
        "bs = 128"
      ],
      "execution_count": null,
      "outputs": []
    },
    {
      "cell_type": "code",
      "metadata": {
        "id": "9wUqUbqLN4pc"
      },
      "source": [
        "dataloaders = {\n",
        "    d: torch.utils.data.DataLoader(dataset[d], batch_size=bs, shuffle=True) for d in ['train', \n",
        "                                                                                      'valid', \n",
        "                                                                                      'test']\n",
        "}"
      ],
      "execution_count": null,
      "outputs": []
    },
    {
      "cell_type": "code",
      "metadata": {
        "colab": {
          "base_uri": "https://localhost:8080/"
        },
        "id": "9s_TzCIPN-SY",
        "outputId": "30a5dfed-5ac5-4688-f858-67a51d29f033"
      },
      "source": [
        "len(dataloaders['train'])"
      ],
      "execution_count": null,
      "outputs": [
        {
          "output_type": "execute_result",
          "data": {
            "text/plain": [
              "1532"
            ]
          },
          "metadata": {},
          "execution_count": 16
        }
      ]
    },
    {
      "cell_type": "code",
      "metadata": {
        "colab": {
          "base_uri": "https://localhost:8080/"
        },
        "id": "rV1jalLASqhu",
        "outputId": "3914e26d-6383-4d89-dfa9-b3a93570522f"
      },
      "source": [
        "for data_idx, (data,target) in enumerate(dataloaders['test']):\n",
        "  print(data.shape)\n",
        "  if data_idx==4:\n",
        "    break"
      ],
      "execution_count": null,
      "outputs": [
        {
          "output_type": "stream",
          "text": [
            "torch.Size([128, 1, 28, 28])\n",
            "torch.Size([128, 1, 28, 28])\n",
            "torch.Size([128, 1, 28, 28])\n",
            "torch.Size([128, 1, 28, 28])\n",
            "torch.Size([128, 1, 28, 28])\n"
          ],
          "name": "stdout"
        }
      ]
    },
    {
      "cell_type": "code",
      "metadata": {
        "id": "9oXWC5wKN_3R"
      },
      "source": [
        "\n",
        "invTrans = transforms.Compose([ transforms.Normalize([0.],[1/0.316]),\n",
        "                                transforms.Normalize([-0.155],[1.]),\n",
        "                               ])\n",
        "\n",
        "def imshow(img):\n",
        "#     img = invTrans(img)\n",
        "#     img = img.numpy()\n",
        "    plt.imshow(img.reshape(28,28), cmap='gray')"
      ],
      "execution_count": null,
      "outputs": []
    },
    {
      "cell_type": "code",
      "metadata": {
        "colab": {
          "base_uri": "https://localhost:8080/",
          "height": 213
        },
        "id": "jCh73qZyOJoh",
        "outputId": "9e58bc7f-c0c9-481f-fc28-ed70d1c9bfc5"
      },
      "source": [
        "dataiter = iter(dataloaders['train'])\n",
        "images, labels = dataiter.next()\n",
        "\n",
        "fig = plt.figure(figsize=(8, 3))\n",
        "# display 9 images\n",
        "for cls in np.arange(10):\n",
        "    ax = fig.add_subplot(2, 5, cls+1, xticks=[], yticks=[])\n",
        "    \n",
        "    image = images.numpy()[labels.numpy().reshape(-1) == cls][0]\n",
        "    label = labels.numpy()[labels.numpy().reshape(-1) == cls][0, 0].astype(np.int64)\n",
        "    imshow(image)\n",
        "    ax.set_title(idx_to_class[label])\n",
        "plt.savefig('data_vis_small.png')"
      ],
      "execution_count": null,
      "outputs": [
        {
          "output_type": "display_data",
          "data": {
            "image/png": "[encoded data removed]",
            "text/plain": [
              "<Figure size 576x216 with 10 Axes>"
            ]
          },
          "metadata": {}
        }
      ]
    },
    {
      "cell_type": "code",
      "metadata": {
        "id": "Tmyr_qsMejDw"
      },
      "source": [
        "dataiter = iter(dataloaders['train'])\n",
        "image, label = dataiter.next()\n"
      ],
      "execution_count": null,
      "outputs": []
    },
    {
      "cell_type": "code",
      "metadata": {
        "colab": {
          "base_uri": "https://localhost:8080/",
          "height": 163
        },
        "id": "-O72gGgne2ew",
        "outputId": "b949f803-d37d-4c81-e973-fd490bafbde5"
      },
      "source": [
        "type(image[0])"
      ],
      "execution_count": null,
      "outputs": [
        {
          "output_type": "error",
          "ename": "NameError",
          "evalue": "ignored",
          "traceback": [
            "\u001b[0;31m---------------------------------------------------------------------------\u001b[0m",
            "\u001b[0;31mNameError\u001b[0m                                 Traceback (most recent call last)",
            "\u001b[0;32m<ipython-input-1-0a233fe77cd4>\u001b[0m in \u001b[0;36m<module>\u001b[0;34m()\u001b[0m\n\u001b[0;32m----> 1\u001b[0;31m \u001b[0mtype\u001b[0m\u001b[0;34m(\u001b[0m\u001b[0mimage\u001b[0m\u001b[0;34m[\u001b[0m\u001b[0;36m0\u001b[0m\u001b[0;34m]\u001b[0m\u001b[0;34m)\u001b[0m\u001b[0;34m\u001b[0m\u001b[0;34m\u001b[0m\u001b[0m\n\u001b[0m",
            "\u001b[0;31mNameError\u001b[0m: name 'image' is not defined"
          ]
        }
      ]
    },
    {
      "cell_type": "code",
      "metadata": {
        "id": "FaDjOJmXOPvd"
      },
      "source": [
        "#CNN architecture\n",
        "class Net(nn.Module):\n",
        "    def __init__(self):\n",
        "        super(Net, self).__init__()\n",
        "        \n",
        "        self.layer1 = nn.Sequential(\n",
        "            nn.Conv2d(1, 5, kernel_size=3, padding=1),\n",
        "            nn.ReLU(),\n",
        "            nn.Conv2d(5, 5, kernel_size=3, padding=1),\n",
        "            nn.ReLU(),\n",
        "            nn.MaxPool2d(2),\n",
        "            nn.Conv2d(5, 8, kernel_size=3, padding=1),\n",
        "            nn.ReLU(),\n",
        "            nn.Conv2d(8, 8, kernel_size=3, padding=1),\n",
        "            nn.ReLU(),\n",
        "            nn.MaxPool2d(2),\n",
        "            nn.Conv2d(8, 16, kernel_size=3, padding=1),\n",
        "            nn.ReLU()\n",
        "        )\n",
        "        self.fc = nn.Sequential(\n",
        "            nn.Linear(7*7*16, 100),\n",
        "            nn.ReLU(),\n",
        "            nn.Dropout(p=0.2),\n",
        "            nn.Linear(100, 10)\n",
        "        )\n",
        "    \n",
        "    def forward(self, x):\n",
        "        out = self.layer1(x)\n",
        "        out = out.view(out.shape[0], -1)\n",
        "        out = self.fc(out)\n",
        "        return out"
      ],
      "execution_count": null,
      "outputs": []
    },
    {
      "cell_type": "code",
      "metadata": {
        "colab": {
          "base_uri": "https://localhost:8080/"
        },
        "id": "GfUft8h5O4BO",
        "outputId": "d029c54c-e47c-4b5b-f6f7-9e1fe0a85c88"
      },
      "source": [
        "model_scratch = Net()\n",
        "model_scratch.to(device)"
      ],
      "execution_count": null,
      "outputs": [
        {
          "output_type": "execute_result",
          "data": {
            "text/plain": [
              "Net(\n",
              "  (layer1): Sequential(\n",
              "    (0): Conv2d(1, 5, kernel_size=(3, 3), stride=(1, 1), padding=(1, 1))\n",
              "    (1): ReLU()\n",
              "    (2): Conv2d(5, 5, kernel_size=(3, 3), stride=(1, 1), padding=(1, 1))\n",
              "    (3): ReLU()\n",
              "    (4): MaxPool2d(kernel_size=2, stride=2, padding=0, dilation=1, ceil_mode=False)\n",
              "    (5): Conv2d(5, 8, kernel_size=(3, 3), stride=(1, 1), padding=(1, 1))\n",
              "    (6): ReLU()\n",
              "    (7): Conv2d(8, 8, kernel_size=(3, 3), stride=(1, 1), padding=(1, 1))\n",
              "    (8): ReLU()\n",
              "    (9): MaxPool2d(kernel_size=2, stride=2, padding=0, dilation=1, ceil_mode=False)\n",
              "    (10): Conv2d(8, 16, kernel_size=(3, 3), stride=(1, 1), padding=(1, 1))\n",
              "    (11): ReLU()\n",
              "  )\n",
              "  (fc): Sequential(\n",
              "    (0): Linear(in_features=784, out_features=100, bias=True)\n",
              "    (1): ReLU()\n",
              "    (2): Dropout(p=0.2, inplace=False)\n",
              "    (3): Linear(in_features=100, out_features=10, bias=True)\n",
              "  )\n",
              ")"
            ]
          },
          "metadata": {},
          "execution_count": 26
        }
      ]
    },
    {
      "cell_type": "code",
      "metadata": {
        "id": "OqMTctKSO-Xq"
      },
      "source": [
        "criterion_scratch = nn.CrossEntropyLoss()\n",
        "optimizer_scratch = optim.Adam(model_scratch.parameters(), lr = 0.001)"
      ],
      "execution_count": null,
      "outputs": []
    },
    {
      "cell_type": "code",
      "metadata": {
        "colab": {
          "base_uri": "https://localhost:8080/"
        },
        "id": "GuteFbwyPSue",
        "outputId": "a81c1333-cf35-4e00-a849-fd3eb57954eb"
      },
      "source": [
        "cd models"
      ],
      "execution_count": null,
      "outputs": [
        {
          "output_type": "stream",
          "text": [
            "[Errno 2] No such file or directory: 'models'\n",
            "/content\n"
          ],
          "name": "stdout"
        }
      ]
    },
    {
      "cell_type": "code",
      "metadata": {
        "id": "hjd3YFDGPw5k"
      },
      "source": [
        "# train and validate cycle\n",
        "def train(epochs, loaders, model, optimizer, criterion, device, save_path):\n",
        "    \"\"\"\n",
        "    epochs : number of epochs\n",
        "    loaders : dataloaders that we define!\n",
        "    model : CNN model \n",
        "    optimizer : Adam Optimizer\n",
        "    criterion : crossEntropy\n",
        "    device : prefer CUDA\n",
        "    save_path : model folder\n",
        "\n",
        "    takes these arguments and returns the model, and losses.\n",
        "    \"\"\"\n",
        "\n",
        "    #pointer for min validation loss\n",
        "    valid_loss_min = np.Inf \n",
        "    train_losses = []\n",
        "    val_losses = []\n",
        "\n",
        "    for epoch in range(1,epochs+1):\n",
        "        #pointer \n",
        "        train_loss =  0.0\n",
        "        valid_loss = 0.0\n",
        "\n",
        "        #model in training mode\n",
        "        model.train()\n",
        "        for batch_idx, (data, target) in enumerate(loaders['train']):\n",
        "            #move to GPU\n",
        "            data, target = data.to(device) , target.long().to(device)\n",
        "\n",
        "            #5 steps\n",
        "            optimizer.zero_grad() # make sure's grads don't pile up\n",
        "            output = model(data) # predictions\n",
        "            loss = criterion(output, torch.max(target,1)[0]) #loss\n",
        "            loss.backward() #backward propagation\n",
        "            optimizer.step() #updation!\n",
        "\n",
        "            train_loss += ((1 / (batch_idx + 1)) * (loss.data - train_loss))\n",
        "\n",
        "            #model in validation mode\n",
        "            model.eval()\n",
        "        for batch_idx, (data,target) in enumerate(loaders['valid']):\n",
        "            # move to GPU\n",
        "            data, target = data.to(device), target.long().to(device)\n",
        "            \n",
        "            #update average val loss\n",
        "            output = model(data)\n",
        "            loss = criterion(output,torch.max(target,1)[0])\n",
        "            valid_loss += ((1 / (batch_idx + 1)) * (loss.data - valid_loss))\n",
        "\n",
        "        #print stats\n",
        "        print('Epoch: {} \\tTraining Loss: {:.6f} \\tValidation Loss: {:.6f}'.format(    \n",
        "            epoch, \n",
        "            train_loss,\n",
        "            valid_loss\n",
        "            ))\n",
        "        \n",
        "        train_losses.append(train_loss)\n",
        "        val_losses.append(valid_loss)\n",
        "\n",
        "        if valid_loss < valid_loss_min:\n",
        "          print('Saving model, model saved....')\n",
        "          valid_loss_min = valid_loss\n",
        "          torch.save(model.state_dict(), save_path)\n",
        "\n",
        "    #finally return model\n",
        "    return model, train_losses, val_losses"
      ],
      "execution_count": null,
      "outputs": []
    },
    {
      "cell_type": "code",
      "metadata": {
        "id": "NIfU9RK2U2yr"
      },
      "source": [
        "ls"
      ],
      "execution_count": null,
      "outputs": []
    },
    {
      "cell_type": "code",
      "metadata": {
        "colab": {
          "base_uri": "https://localhost:8080/"
        },
        "id": "XBZC31idU8w5",
        "outputId": "ded1f27a-ca59-4541-e8a3-5a054e5e2803"
      },
      "source": [
        "# train the model\n",
        "model_scratch, train_losses, val_losses = train(25, dataloaders, model_scratch, optimizer_scratch, \n",
        "                                                criterion_scratch, device, 'mark1_25.pt')"
      ],
      "execution_count": null,
      "outputs": [
        {
          "output_type": "stream",
          "text": [
            "Epoch: 1 \tTraining Loss: 0.560867 \tValidation Loss: 0.396798\n",
            "Saving model, model saved....\n",
            "Epoch: 2 \tTraining Loss: 0.365212 \tValidation Loss: 0.325163\n",
            "Saving model, model saved....\n",
            "Epoch: 3 \tTraining Loss: 0.309063 \tValidation Loss: 0.291169\n",
            "Saving model, model saved....\n",
            "Epoch: 4 \tTraining Loss: 0.279498 \tValidation Loss: 0.275433\n",
            "Saving model, model saved....\n",
            "Epoch: 5 \tTraining Loss: 0.259729 \tValidation Loss: 0.255984\n",
            "Saving model, model saved....\n",
            "Epoch: 6 \tTraining Loss: 0.243842 \tValidation Loss: 0.266013\n",
            "Epoch: 7 \tTraining Loss: 0.231772 \tValidation Loss: 0.259593\n",
            "Epoch: 8 \tTraining Loss: 0.221417 \tValidation Loss: 0.244017\n",
            "Saving model, model saved....\n",
            "Epoch: 9 \tTraining Loss: 0.212144 \tValidation Loss: 0.250247\n",
            "Epoch: 10 \tTraining Loss: 0.203718 \tValidation Loss: 0.237473\n",
            "Saving model, model saved....\n",
            "Epoch: 11 \tTraining Loss: 0.196576 \tValidation Loss: 0.244968\n",
            "Epoch: 12 \tTraining Loss: 0.189714 \tValidation Loss: 0.242504\n",
            "Epoch: 13 \tTraining Loss: 0.183253 \tValidation Loss: 0.246427\n",
            "Epoch: 14 \tTraining Loss: 0.177921 \tValidation Loss: 0.246074\n",
            "Epoch: 15 \tTraining Loss: 0.172866 \tValidation Loss: 0.254482\n",
            "Epoch: 16 \tTraining Loss: 0.167707 \tValidation Loss: 0.245746\n",
            "Epoch: 17 \tTraining Loss: 0.163702 \tValidation Loss: 0.258033\n",
            "Epoch: 18 \tTraining Loss: 0.158549 \tValidation Loss: 0.254740\n",
            "Epoch: 19 \tTraining Loss: 0.155077 \tValidation Loss: 0.262723\n",
            "Epoch: 20 \tTraining Loss: 0.150785 \tValidation Loss: 0.265523\n",
            "Epoch: 21 \tTraining Loss: 0.147219 \tValidation Loss: 0.274955\n",
            "Epoch: 22 \tTraining Loss: 0.144727 \tValidation Loss: 0.263108\n",
            "Epoch: 23 \tTraining Loss: 0.141474 \tValidation Loss: 0.264164\n",
            "Epoch: 24 \tTraining Loss: 0.136936 \tValidation Loss: 0.280499\n",
            "Epoch: 25 \tTraining Loss: 0.134624 \tValidation Loss: 0.274004\n"
          ],
          "name": "stdout"
        }
      ]
    },
    {
      "cell_type": "code",
      "metadata": {
        "colab": {
          "base_uri": "https://localhost:8080/",
          "height": 279
        },
        "id": "qbAtPBm5VCsQ",
        "outputId": "5f16f6bd-3b0a-41fa-df22-cdeada5d13f4"
      },
      "source": [
        "plt.plot(train_losses, label='Training loss')\n",
        "plt.plot(val_losses, label='Validation loss')\n",
        "plt.xticks([i for i in range(0, len(train_losses), 5)].append(len(train_losses)))\n",
        "plt.xlabel('Epochs')\n",
        "plt.ylabel('Loss')\n",
        "plt.legend()\n",
        "_ = plt.ylim()\n",
        "plt.show()"
      ],
      "execution_count": null,
      "outputs": [
        {
          "output_type": "display_data",
          "data": {
            "image/png": "[encoded data removed]",
            "text/plain": [
              "<Figure size 432x288 with 1 Axes>"
            ]
          },
          "metadata": {
            "needs_background": "light"
          }
        }
      ]
    },
    {
      "cell_type": "code",
      "metadata": {
        "colab": {
          "base_uri": "https://localhost:8080/"
        },
        "id": "u0FK3bupYY9u",
        "outputId": "c8f11c21-7897-4e24-95af-1523b620f955"
      },
      "source": [
        "#load the model\n",
        "model_scratch.load_state_dict(torch.load('mark1_25.pt'))\n"
      ],
      "execution_count": null,
      "outputs": [
        {
          "output_type": "execute_result",
          "data": {
            "text/plain": [
              "<All keys matched successfully>"
            ]
          },
          "metadata": {},
          "execution_count": 69
        }
      ]
    },
    {
      "cell_type": "code",
      "metadata": {
        "id": "wBg9RASec9-n"
      },
      "source": [
        "\n",
        "def mapk(target, output, k=3):\n",
        "    map_sum = 0\n",
        "    output = torch.topk(output, k)[1]\n",
        "    for i, t in enumerate(target):\n",
        "        idx = (output[i] == t).nonzero().cpu().numpy()\n",
        "        if len(idx) == 0:\n",
        "            continue\n",
        "            \n",
        "        idx = idx[0][0]\n",
        "        map_sum += 1 / (idx + 1)\n",
        "        \n",
        "    return map_sum"
      ],
      "execution_count": null,
      "outputs": []
    },
    {
      "cell_type": "code",
      "metadata": {
        "id": "5RUTirl1dDe1"
      },
      "source": [
        "def test(loaders, model, criterion, device):\n",
        "    sigmoid = lambda x: 1 / (1 + np.exp(-x))\n",
        "    \n",
        "    # monitor test loss and accuracy\n",
        "    test_loss = 0.\n",
        "    correct = 0.\n",
        "    total = 0.\n",
        "    y = None\n",
        "    y_hat = None\n",
        "    total_mapk = 0\n",
        "    \n",
        "    model.eval()\n",
        "    for batch_idx, (data, target) in enumerate(loaders['test']):\n",
        "        # move to GPU or CPU\n",
        "        data, target = data.to(device), target.long().to(device)\n",
        "        \n",
        "        # forward pass: compute predicted outputs by passing inputs to the model\n",
        "        output = model(data)\n",
        "        # calculate the loss\n",
        "        loss = criterion(output, target.view(-1))\n",
        "        # update average test loss \n",
        "        test_loss = test_loss + ((1 / (batch_idx + 1)) * (loss.data - test_loss))\n",
        "        # convert output probabilities to predicted class\n",
        "        pred = output.data.max(1, keepdim=True)[1]\n",
        "        \n",
        "        if y is None:\n",
        "            y = target.cpu().numpy()\n",
        "            y_hat = pred.data.cpu().view_as(target).numpy()\n",
        "            probs = output.data.cpu().numpy()\n",
        "        else:\n",
        "            y = np.append(y, target.cpu().numpy())\n",
        "            y_hat = np.append(y_hat, pred.data.cpu().view_as(target).numpy())\n",
        "            probs = np.vstack([probs, output.data.cpu().numpy()])\n",
        "            \n",
        "        total_mapk += mapk(target, output)\n",
        "        \n",
        "        # compare predictions to true label\n",
        "        correct += np.sum(np.squeeze(pred.eq(target.data.view_as(pred))).cpu().numpy())\n",
        "        total += data.size(0)\n",
        "            \n",
        "    print('Test Loss: {:.6f}\\n'.format(test_loss))\n",
        "\n",
        "    print('\\nTest Accuracy: %2d%% (%2d/%2d)' % (\n",
        "        100. * correct / total, correct, total))\n",
        "    \n",
        "    map3 = np.around(total_mapk / len(loaders[\"test\"].dataset) * 100, 2)\n",
        "    print(f'\\nMean Average Precision @ 3: {map3}%')\n",
        "          \n",
        "    return y, y_hat, probs"
      ],
      "execution_count": null,
      "outputs": []
    },
    {
      "cell_type": "code",
      "metadata": {
        "colab": {
          "base_uri": "https://localhost:8080/"
        },
        "id": "VI0etjMHdIYW",
        "outputId": "1c3443df-3fc8-4949-c9f2-fc181de811c3"
      },
      "source": [
        "y, y_hat, probs = test(dataloaders, model_scratch, criterion_scratch, device)"
      ],
      "execution_count": null,
      "outputs": [
        {
          "output_type": "stream",
          "text": [
            "Test Loss: 0.239746\n",
            "\n",
            "\n",
            "Test Accuracy: 92% (64794/70000)\n",
            "\n",
            "Mean Average Precision @ 3: 95.11%\n"
          ],
          "name": "stdout"
        }
      ]
    },
    {
      "cell_type": "code",
      "metadata": {
        "id": "BLB4PJd5dKjN"
      },
      "source": [
        "def cmc_curve(probs, y, idx_to_class):\n",
        "    counts = np.zeros(len(idx_to_class))\n",
        "    \n",
        "    indices = np.argsort(probs * -1)\n",
        "    for i in range(y.shape[0]):\n",
        "        actual = y[i]\n",
        "        rank = 1\n",
        "        for pred in indices[i]:\n",
        "            if pred == actual:\n",
        "                break\n",
        "            rank += 1\n",
        "        \n",
        "        counts[rank - 1] += 1\n",
        "    \n",
        "    ranks = np.zeros(len(idx_to_class))\n",
        "    ranks[0] = counts[0]\n",
        "    for i in range(1, len(idx_to_class)):\n",
        "        ranks[i] = ranks[i-1] + counts[i]\n",
        "\n",
        "    return ranks / y.shape[0]"
      ],
      "execution_count": null,
      "outputs": []
    },
    {
      "cell_type": "code",
      "metadata": {
        "id": "rrXJpiIkdQO6"
      },
      "source": [
        "cmcs = cmc_curve(probs, y, idx_to_class)\n"
      ],
      "execution_count": null,
      "outputs": []
    },
    {
      "cell_type": "code",
      "metadata": {
        "id": "Br0pk78pdRrH"
      },
      "source": [
        "cmcs_lda_3 = [0.91458333, 0.95911111, 0.97458333, 0.98288889, 0.98794444, 0.99166667,\n",
        " 0.99483333, 0.99686111, 0.99872222, 1.]"
      ],
      "execution_count": null,
      "outputs": []
    },
    {
      "cell_type": "code",
      "metadata": {
        "colab": {
          "base_uri": "https://localhost:8080/",
          "height": 295
        },
        "id": "Is_nYJRLdTIQ",
        "outputId": "9a2969a7-a28e-4aea-f65b-68a3574c3b28"
      },
      "source": [
        "plt.plot([i for i in range(1,11)], cmcs_lda_3, 'bo-', label='XGB-LDA', c='r')\n",
        "plt.plot([i for i in range(1,11)], cmcs, 'bo-', label='CNN')\n",
        "plt.locator_params(axis='x', nbins=10)\n",
        "plt.xlabel('Rank')\n",
        "plt.ylabel('Identification Accuracy')\n",
        "plt.title('CMC Curve')\n",
        "plt.legend()\n",
        "plt.savefig('cmc_small.png')\n",
        "plt.show()"
      ],
      "execution_count": null,
      "outputs": [
        {
          "output_type": "display_data",
          "data": {
            "image/png": "[encoded data removed]",
            "text/plain": [
              "<Figure size 432x288 with 1 Axes>"
            ]
          },
          "metadata": {
            "needs_background": "light"
          }
        }
      ]
    },
    {
      "cell_type": "code",
      "metadata": {
        "id": "W8jGLFA1dUNN"
      },
      "source": [
        "def confusion_matrix(cm, classes, title='Confusion matrix', cmap=plt.cm.Blues, figsize=(7,7), path=None, filename=None):\n",
        "        \"\"\"\n",
        "        cm: confusion matrix to be plotted.\n",
        "        classes: array of labels or class names.\n",
        "        title: title of the confusion matrix.\n",
        "        cmap: color of the plot matrix.\n",
        "        figsize: tupple (width, height) representiong size of the plot.\n",
        "        path: destination where the plot image will be saved.\n",
        "        filename: name to save the file with on the specified path. (if None, title is used)\n",
        "        \n",
        "        # Source: https://scikit-learn.org/stable/auto_examples/model_selection/plot_confusion_matrix.html\n",
        "        \"\"\"\n",
        "        cm = cm.astype(np.int64)\n",
        "        plt.figure(figsize=figsize)\n",
        "        plt.imshow(cm, interpolation='nearest', cmap=cmap)\n",
        "        plt.title(title)\n",
        "        plt.colorbar()\n",
        "        tick_marks = np.arange(len(classes))\n",
        "        plt.xticks(tick_marks, classes, rotation=45)\n",
        "        plt.yticks(tick_marks, classes)\n",
        "\n",
        "        fmt = 'd'\n",
        "        thresh = cm.max() / 2.\n",
        "        for i, j in itertools.product(range(cm.shape[0]), range(cm.shape[1])):\n",
        "            plt.text(j, i, format(cm[i, j], fmt),\n",
        "                     horizontalalignment=\"center\",\n",
        "                     color=\"white\" if cm[i, j] > thresh else \"black\")\n",
        "\n",
        "        plt.ylabel('True label')\n",
        "        plt.xlabel('Predicted label')\n",
        "        plt.tight_layout()\n",
        "        \n",
        "        if path:\n",
        "            if filename is None:\n",
        "                plt.savefig(path + title + '.png')\n",
        "            else:\n",
        "                plt.savefig(path + filename + '.png')\n",
        "        plt.show()\n"
      ],
      "execution_count": null,
      "outputs": []
    },
    {
      "cell_type": "code",
      "metadata": {
        "id": "gHVUZTetdm8Z"
      },
      "source": [
        "def accuracy(y, y_hat):\n",
        "    \"\"\"\n",
        "    y [np array]: actual labels\n",
        "    y_hat [np array]: predicted labels\n",
        "    \n",
        "    return: accuracy between 0 and 1\n",
        "    \"\"\"\n",
        "    return np.sum(y == y_hat) / len(y)"
      ],
      "execution_count": null,
      "outputs": []
    },
    {
      "cell_type": "code",
      "metadata": {
        "colab": {
          "base_uri": "https://localhost:8080/"
        },
        "id": "F2N3plrjdtDf",
        "outputId": "4a32a7c1-5228-4b19-8b0f-fff4662a94f1"
      },
      "source": [
        "accuracy(y, y_hat)\n"
      ],
      "execution_count": null,
      "outputs": [
        {
          "output_type": "execute_result",
          "data": {
            "text/plain": [
              "0.9256285714285715"
            ]
          },
          "metadata": {},
          "execution_count": 80
        }
      ]
    },
    {
      "cell_type": "code",
      "metadata": {
        "id": "ZSzdJKUPdwje"
      },
      "source": [
        "cm = confusion_matrix(y, y_hat, nclasses=len(idx_to_class))\n"
      ],
      "execution_count": null,
      "outputs": []
    },
    {
      "cell_type": "code",
      "metadata": {
        "colab": {
          "base_uri": "https://localhost:8080/",
          "height": 484
        },
        "id": "3Aib-vK-d0_B",
        "outputId": "4964246c-8b10-44cb-e95d-72f9e49f807a"
      },
      "source": [
        "import itertools\n",
        "confusion_matrix(cm, idx_to_class, title='',\n",
        "                           filename='Confusion Matrix with CNN from mark1_25 model', figsize=(7,7), path='./')"
      ],
      "execution_count": null,
      "outputs": [
        {
          "output_type": "display_data",
          "data": {
            "image/png": "[encoded data removed]",
            "text/plain": [
              "<Figure size 504x504 with 2 Axes>"
            ]
          },
          "metadata": {
            "needs_background": "light"
          }
        }
      ]
    },
    {
      "cell_type": "code",
      "metadata": {
        "colab": {
          "base_uri": "https://localhost:8080/"
        },
        "id": "HNJtxRAfd7L4",
        "outputId": "b08c24aa-babe-4b42-f63f-9f6ace072871"
      },
      "source": [
        "# train the model\n",
        "model_scratch, train_losses, val_losses = train(50, dataloaders, model_scratch, optimizer_scratch, \n",
        "                                                criterion_scratch, device, 'mark2_50.pt')"
      ],
      "execution_count": null,
      "outputs": [
        {
          "output_type": "stream",
          "text": [
            "/usr/local/lib/python3.7/dist-packages/torch/nn/functional.py:718: UserWarning: Named tensors and all their associated APIs are an experimental feature and subject to change. Please do not use them for anything important until they are released as stable. (Triggered internally at  /pytorch/c10/core/TensorImpl.h:1156.)\n",
            "  return torch.max_pool2d(input, kernel_size, stride, padding, dilation, ceil_mode)\n"
          ],
          "name": "stderr"
        },
        {
          "output_type": "stream",
          "text": [
            "Epoch: 1 \tTraining Loss: 0.756313 \tValidation Loss: 0.497015\n",
            "Saving model, model saved....\n",
            "Epoch: 2 \tTraining Loss: 0.444849 \tValidation Loss: 0.366475\n",
            "Saving model, model saved....\n",
            "Epoch: 3 \tTraining Loss: 0.364771 \tValidation Loss: 0.326878\n",
            "Saving model, model saved....\n",
            "Epoch: 4 \tTraining Loss: 0.323583 \tValidation Loss: 0.302439\n",
            "Saving model, model saved....\n",
            "Epoch: 5 \tTraining Loss: 0.298621 \tValidation Loss: 0.300663\n",
            "Saving model, model saved....\n",
            "Epoch: 6 \tTraining Loss: 0.282489 \tValidation Loss: 0.278512\n",
            "Saving model, model saved....\n",
            "Epoch: 7 \tTraining Loss: 0.268950 \tValidation Loss: 0.267017\n",
            "Saving model, model saved....\n",
            "Epoch: 8 \tTraining Loss: 0.257888 \tValidation Loss: 0.269994\n",
            "Epoch: 9 \tTraining Loss: 0.248139 \tValidation Loss: 0.259697\n",
            "Saving model, model saved....\n",
            "Epoch: 10 \tTraining Loss: 0.240727 \tValidation Loss: 0.261768\n",
            "Epoch: 11 \tTraining Loss: 0.233101 \tValidation Loss: 0.259992\n",
            "Epoch: 12 \tTraining Loss: 0.225948 \tValidation Loss: 0.280163\n",
            "Epoch: 13 \tTraining Loss: 0.218269 \tValidation Loss: 0.251854\n",
            "Saving model, model saved....\n",
            "Epoch: 14 \tTraining Loss: 0.212952 \tValidation Loss: 0.250784\n",
            "Saving model, model saved....\n",
            "Epoch: 15 \tTraining Loss: 0.207875 \tValidation Loss: 0.257412\n",
            "Epoch: 16 \tTraining Loss: 0.202861 \tValidation Loss: 0.252179\n",
            "Epoch: 17 \tTraining Loss: 0.197287 \tValidation Loss: 0.248047\n",
            "Saving model, model saved....\n",
            "Epoch: 18 \tTraining Loss: 0.193599 \tValidation Loss: 0.255363\n",
            "Epoch: 19 \tTraining Loss: 0.188163 \tValidation Loss: 0.250094\n",
            "Epoch: 20 \tTraining Loss: 0.185786 \tValidation Loss: 0.262819\n",
            "Epoch: 21 \tTraining Loss: 0.181115 \tValidation Loss: 0.257587\n",
            "Epoch: 22 \tTraining Loss: 0.177214 \tValidation Loss: 0.259905\n",
            "Epoch: 23 \tTraining Loss: 0.173262 \tValidation Loss: 0.255409\n",
            "Epoch: 24 \tTraining Loss: 0.172282 \tValidation Loss: 0.261741\n",
            "Epoch: 25 \tTraining Loss: 0.167199 \tValidation Loss: 0.256964\n",
            "Epoch: 26 \tTraining Loss: 0.165014 \tValidation Loss: 0.266262\n",
            "Epoch: 27 \tTraining Loss: 0.161522 \tValidation Loss: 0.266695\n",
            "Epoch: 28 \tTraining Loss: 0.158113 \tValidation Loss: 0.273995\n",
            "Epoch: 29 \tTraining Loss: 0.156435 \tValidation Loss: 0.269273\n",
            "Epoch: 30 \tTraining Loss: 0.154339 \tValidation Loss: 0.274240\n",
            "Epoch: 31 \tTraining Loss: 0.152415 \tValidation Loss: 0.269176\n",
            "Epoch: 32 \tTraining Loss: 0.150241 \tValidation Loss: 0.282215\n",
            "Epoch: 33 \tTraining Loss: 0.147568 \tValidation Loss: 0.279200\n",
            "Epoch: 34 \tTraining Loss: 0.146030 \tValidation Loss: 0.289678\n",
            "Epoch: 35 \tTraining Loss: 0.144416 \tValidation Loss: 0.284147\n",
            "Epoch: 36 \tTraining Loss: 0.141694 \tValidation Loss: 0.288309\n",
            "Epoch: 37 \tTraining Loss: 0.140379 \tValidation Loss: 0.291289\n",
            "Epoch: 38 \tTraining Loss: 0.137615 \tValidation Loss: 0.295285\n",
            "Epoch: 39 \tTraining Loss: 0.136314 \tValidation Loss: 0.299045\n",
            "Epoch: 40 \tTraining Loss: 0.134529 \tValidation Loss: 0.300391\n",
            "Epoch: 41 \tTraining Loss: 0.132420 \tValidation Loss: 0.312961\n",
            "Epoch: 42 \tTraining Loss: 0.131626 \tValidation Loss: 0.307368\n",
            "Epoch: 43 \tTraining Loss: 0.130301 \tValidation Loss: 0.308114\n",
            "Epoch: 44 \tTraining Loss: 0.128699 \tValidation Loss: 0.315961\n",
            "Epoch: 45 \tTraining Loss: 0.126293 \tValidation Loss: 0.304275\n",
            "Epoch: 46 \tTraining Loss: 0.125482 \tValidation Loss: 0.313064\n",
            "Epoch: 47 \tTraining Loss: 0.124313 \tValidation Loss: 0.319611\n",
            "Epoch: 48 \tTraining Loss: 0.121376 \tValidation Loss: 0.322750\n",
            "Epoch: 49 \tTraining Loss: 0.120823 \tValidation Loss: 0.326984\n",
            "Epoch: 50 \tTraining Loss: 0.119290 \tValidation Loss: 0.333534\n"
          ],
          "name": "stdout"
        }
      ]
    },
    {
      "cell_type": "code",
      "metadata": {
        "id": "aSSWikIZtggn"
      },
      "source": [
        ""
      ],
      "execution_count": null,
      "outputs": []
    }
  ]
}